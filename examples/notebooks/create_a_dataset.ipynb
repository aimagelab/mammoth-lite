{
 "cells": [
  {
   "cell_type": "code",
   "execution_count": 1,
   "id": "0bfab52e",
   "metadata": {},
   "outputs": [],
   "source": [
    "from mammoth_lite import register_dataset, ContinualDataset, MammothDataset, load_runner, train, base_path"
   ]
  },
  {
   "cell_type": "code",
   "execution_count": 8,
   "id": "9a4473dc",
   "metadata": {},
   "outputs": [],
   "source": [
    "from torchvision.datasets import CIFAR10\n",
    "from torchvision import transforms\n",
    "from PIL import Image\n",
    "\n",
    "class MammothCIFAR10(MammothDataset, CIFAR10):\n",
    "    \"\"\"\n",
    "    Overrides the CIFAR10 dataset to change the getitem function.\n",
    "    \"\"\"\n",
    "\n",
    "    def __init__(self, root, is_train=True, transform=None, target_transform=None) -> None:\n",
    "        # not self._check_integrity() -> trick to avoid printing debug messages\n",
    "        self.root=root\n",
    "        super(MammothCIFAR10, self).__init__(root, is_train, transform, target_transform, download=not self._check_integrity())        \n",
    "\n",
    "    def __getitem__(self, index: int):\n",
    "        \"\"\"\n",
    "        Gets the requested element from the dataset.\n",
    "        \"\"\"\n",
    "        img, target = self.data[index], self.targets[index]\n",
    "\n",
    "        # to return a PIL Image\n",
    "        img = Image.fromarray(img, mode='RGB')\n",
    "        original_img = img.copy()\n",
    "\n",
    "        not_aug_img = self.not_aug_transform(original_img)\n",
    "\n",
    "        if self.transform is not None:\n",
    "            img = self.transform(img)\n",
    "\n",
    "        if self.target_transform is not None:\n",
    "            target = self.target_transform(target)\n",
    "\n",
    "        return img, target, not_aug_img"
   ]
  },
  {
   "cell_type": "code",
   "execution_count": 10,
   "id": "73a2475c",
   "metadata": {},
   "outputs": [],
   "source": [
    "@register_dataset(name='custom-cifar10')\n",
    "class CustomSeqCifar10(ContinualDataset):\n",
    "    \"\"\"Custom Sequential CIFAR10 Dataset.\n",
    "\n",
    "    Args:\n",
    "        NAME (str): name of the dataset.\n",
    "        SETTING (str): setting of the dataset.\n",
    "        N_CLASSES_PER_TASK (int): number of classes per task.\n",
    "        N_TASKS (int): number of tasks.\n",
    "        N_CLASSES (int): number of classes.\n",
    "        SIZE (tuple): size of the images.\n",
    "        MEAN (tuple): mean of the dataset.\n",
    "        STD (tuple): standard deviation of the dataset.\n",
    "        TRANSFORM (torchvision.transforms): transformations to apply to the dataset.\n",
    "    \"\"\"\n",
    "\n",
    "    NAME = 'seq-cifar10'\n",
    "    SETTING = 'class-il'\n",
    "    N_CLASSES_PER_TASK = 2\n",
    "    N_TASKS = 5\n",
    "    N_CLASSES = N_CLASSES_PER_TASK * N_TASKS\n",
    "    SIZE = (32, 32)\n",
    "    MEAN, STD = (0.4914, 0.4822, 0.4465), (0.2470, 0.2435, 0.2615)\n",
    "    TRANSFORM = transforms.Compose(\n",
    "        [transforms.RandomCrop(32, padding=4),\n",
    "         transforms.RandomHorizontalFlip(),\n",
    "         transforms.ToTensor(),\n",
    "         transforms.Normalize(MEAN, STD)])\n",
    "\n",
    "    TEST_TRANSFORM = transforms.Compose([transforms.ToTensor(), transforms.Normalize(MEAN, STD)])\n",
    "\n",
    "    def get_data_loaders(self):\n",
    "        \"\"\"\n",
    "        Class method that returns the train and test loaders.\n",
    "        \"\"\"\n",
    "        train_dataset = MammothCIFAR10(base_path() + 'CIFAR10', is_train=True, transform=self.TRANSFORM)\n",
    "        test_dataset = MammothCIFAR10(base_path() + 'CIFAR10', is_train=False, transform=self.TEST_TRANSFORM)\n",
    "\n",
    "        return train_dataset, test_dataset\n",
    "\n",
    "    @staticmethod\n",
    "    def get_backbone():\n",
    "        return \"resnet18\""
   ]
  },
  {
   "cell_type": "code",
   "execution_count": 11,
   "id": "b1d23865",
   "metadata": {},
   "outputs": [
    {
     "name": "stdout",
     "output_type": "stream",
     "text": [
      "Loading model:  sgd\n",
      "- Using ResNet as backbone\n"
     ]
    },
    {
     "data": {
      "application/vnd.jupyter.widget-view+json": {
       "model_id": "6f940a01ff2c4e32b5a3e0fc59dd4cd7",
       "version_major": 2,
       "version_minor": 0
      },
      "text/plain": [
       "  0%|          | 0/313 [00:00<?, ?it/s]"
      ]
     },
     "metadata": {},
     "output_type": "display_data"
    },
    {
     "name": "stdout",
     "output_type": "stream",
     "text": [
      "Task 1\n",
      "Training interrupted!\n"
     ]
    }
   ],
   "source": [
    "\"\"\"\n",
    "Now we can use the `load_runner` function to load our custom model.\n",
    "\"\"\"\n",
    "\n",
    "model, dataset = load_runner('sgd','custom-cifar10',{'lr': 0.1, 'n_epochs': 1, 'batch_size': 32})\n",
    "train(model, dataset)"
   ]
  },
  {
   "cell_type": "code",
   "execution_count": null,
   "id": "9a857877",
   "metadata": {},
   "outputs": [],
   "source": []
  }
 ],
 "metadata": {
  "kernelspec": {
   "display_name": ".venv",
   "language": "python",
   "name": "python3"
  },
  "language_info": {
   "codemirror_mode": {
    "name": "ipython",
    "version": 3
   },
   "file_extension": ".py",
   "mimetype": "text/x-python",
   "name": "python",
   "nbconvert_exporter": "python",
   "pygments_lexer": "ipython3",
   "version": "3.13.3"
  }
 },
 "nbformat": 4,
 "nbformat_minor": 5
}
