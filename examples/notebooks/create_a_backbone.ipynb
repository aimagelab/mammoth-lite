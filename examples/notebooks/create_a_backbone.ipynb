{
 "cells": [
  {
   "cell_type": "code",
   "execution_count": 1,
   "id": "0bfab52e",
   "metadata": {},
   "outputs": [],
   "source": [
    "\"\"\"\n",
    "In this script we will define a new backbone to be used with the Mammoth framework.\n",
    "\n",
    "We will need:\n",
    "- The `register_backbone` function to register our bakcbone.\n",
    "- The `MammothBackbone` class to define our backbone.\n",
    "\"\"\"\n",
    "\n",
    "from mammoth_lite import register_backbone, MammothBackbone, load_runner, train, ReturnTypes"
   ]
  },
  {
   "cell_type": "code",
   "execution_count": 2,
   "id": "73a2475c",
   "metadata": {},
   "outputs": [],
   "source": [
    "\"\"\"\n",
    "Differently from models and datasets, the `register_backbone` function is not used on the backbone class itself, but rather on a function that returns an instance of the backbone class. \n",
    "This allows us to create multiple versions of the same backbone with different parameters.\n",
    "\"\"\"\n",
    "\n",
    "from torch import nn\n",
    "from torch.nn import functional as F\n",
    "\n",
    "class CustomCNN(MammothBackbone):\n",
    "    def __init__(self, num_classes: int, num_channels: int = 32, input_size: int = 32):\n",
    "        \"\"\"\n",
    "        All backbones must inherit from the `MammothBackbone` class.\n",
    "        The constructor should define the layers of the backbone and any necessary parameters.\n",
    "\n",
    "        All parameters except `num_classes` can be customized when registering the backbone.\n",
    "        The `num_classes` parameter is mandatory and will be passed automatically when the backbone is loaded.\n",
    "        \"\"\"\n",
    "        super().__init__()\n",
    "\n",
    "        self.layer1 = nn.Conv2d(in_channels=3, out_channels=num_channels, kernel_size=3, stride=1, padding=1)\n",
    "        self.layer2 = nn.Conv2d(in_channels=num_channels, out_channels=num_channels * 2, kernel_size=3, stride=1, padding=1)\n",
    "        self.maxpool = nn.MaxPool2d(kernel_size=2, stride=2, padding=0)\n",
    "\n",
    "        self.classifier = nn.Linear(num_channels * 2 * (input_size // 4) * (input_size // 4), num_classes)\n",
    "\n",
    "    def forward(self, x, returnt: ReturnTypes = \"out\"):\n",
    "        \"\"\"\n",
    "        Implement the forward pass of your custom CNN.\n",
    "        \n",
    "        In addition to the standard output, you can return intermediate features or logits depending on the `returnt` parameter.\n",
    "        The `returnt` parameter can be one of the following:\n",
    "        - \"out\": return the final output of the model.\n",
    "        - \"features\": return intermediate features.\n",
    "        - \"both\": return both the final output and intermediate features as a tuple.\n",
    "\n",
    "        NOTE: You do not need to implement all return types, just the ones you need. \n",
    "        The mandatory return type is \"out\" but it is also recommended to implement \"features\", as it is used by many models.\n",
    "        You can also define custom return types if needed.\n",
    "        \"\"\"\n",
    "\n",
    "        out1 = self.maxpool(F.relu(self.layer1(x)))\n",
    "        out2 = self.maxpool(F.relu(self.layer2(out1)))\n",
    "        \n",
    "        out2 = out2.view(out2.size(0), -1)\n",
    "        logits = self.classifier(out2)\n",
    "        if returnt == \"out\":\n",
    "            return logits\n",
    "        elif returnt == \"features\":\n",
    "            return out2\n",
    "        elif returnt == \"both\":\n",
    "            return logits, out2\n",
    "        else:\n",
    "            raise ValueError(f\"Unknown return type: {returnt}\")\n",
    "\n",
    "@register_backbone(name='custom-cnn-v1')\n",
    "def custom_cnn_v1(num_classes: int):\n",
    "    \"\"\"\n",
    "    Register the custom CNN backbone with the Mammoth framework.\n",
    "\n",
    "    The `num_classes` parameter will be passed automatically when the backbone is loaded.\n",
    "    \"\"\"\n",
    "    return CustomCNN(num_classes=num_classes, num_channels=32, input_size=32)\n",
    "\n",
    "@register_backbone(name='custom-cnn-v2')\n",
    "def custom_cnn_v2(num_classes: int):\n",
    "    \"\"\"\n",
    "    Register another version of the custom CNN backbone with different parameters.\n",
    "\n",
    "    NOTE: In the full Mammoth framework, you can add any additional parameters to the function signature and they will be available via CLI.\n",
    "    \"\"\"\n",
    "    return CustomCNN(num_classes=num_classes, num_channels=64, input_size=32)\n"
   ]
  },
  {
   "cell_type": "code",
   "execution_count": 3,
   "id": "b1d23865",
   "metadata": {},
   "outputs": [
    {
     "name": "stdout",
     "output_type": "stream",
     "text": [
      "Loading model:  sgd\n",
      "- Using CustomCNN as backbone\n",
      "Using device cuda\n"
     ]
    },
    {
     "data": {
      "application/vnd.jupyter.widget-view+json": {
       "model_id": "df5071fb7b7747749801cd21e927191b",
       "version_major": 2,
       "version_minor": 0
      },
      "text/plain": [
       "  0%|          | 0/313 [00:00<?, ?it/s]"
      ]
     },
     "metadata": {},
     "output_type": "display_data"
    },
    {
     "name": "stdout",
     "output_type": "stream",
     "text": [
      "Task 1\n"
     ]
    },
    {
     "name": "stderr",
     "output_type": "stream",
     "text": [
      "Evaluating Task 1: 100%|██████████| 63/63 [00:00<00:00, 168.72it/s, acc_task_1=84.7]\n"
     ]
    },
    {
     "name": "stdout",
     "output_type": "stream",
     "text": [
      "Accuracy for task 1\t[Class-IL]: 84.70 \t[Task-IL]: 84.70\n"
     ]
    },
    {
     "data": {
      "application/vnd.jupyter.widget-view+json": {
       "model_id": "dc9ebdc9707746009e1a8d7e0eaf8d36",
       "version_major": 2,
       "version_minor": 0
      },
      "text/plain": [
       "  0%|          | 0/313 [00:00<?, ?it/s]"
      ]
     },
     "metadata": {},
     "output_type": "display_data"
    },
    {
     "name": "stdout",
     "output_type": "stream",
     "text": [
      "Task 2\n"
     ]
    },
    {
     "name": "stderr",
     "output_type": "stream",
     "text": [
      "Evaluating Task 2: 100%|██████████| 126/126 [00:00<00:00, 175.45it/s, acc_task_2=68.4]\n"
     ]
    },
    {
     "name": "stdout",
     "output_type": "stream",
     "text": [
      "Accuracy for task 2\t[Class-IL]: 34.20 \t[Task-IL]: 69.72\n"
     ]
    },
    {
     "data": {
      "application/vnd.jupyter.widget-view+json": {
       "model_id": "13cd7c12cbe141138041103330ec9ae5",
       "version_major": 2,
       "version_minor": 0
      },
      "text/plain": [
       "  0%|          | 0/313 [00:00<?, ?it/s]"
      ]
     },
     "metadata": {},
     "output_type": "display_data"
    },
    {
     "name": "stdout",
     "output_type": "stream",
     "text": [
      "Task 3\n"
     ]
    },
    {
     "name": "stderr",
     "output_type": "stream",
     "text": [
      "Evaluating Task 3: 100%|██████████| 189/189 [00:01<00:00, 176.29it/s, acc_task_3=58]   \n"
     ]
    },
    {
     "name": "stdout",
     "output_type": "stream",
     "text": [
      "Accuracy for task 3\t[Class-IL]: 19.37 \t[Task-IL]: 57.12\n"
     ]
    },
    {
     "data": {
      "application/vnd.jupyter.widget-view+json": {
       "model_id": "0da7624c4d574e28bc5c6a45cdfee731",
       "version_major": 2,
       "version_minor": 0
      },
      "text/plain": [
       "  0%|          | 0/313 [00:00<?, ?it/s]"
      ]
     },
     "metadata": {},
     "output_type": "display_data"
    },
    {
     "name": "stdout",
     "output_type": "stream",
     "text": [
      "Task 4\n"
     ]
    },
    {
     "name": "stderr",
     "output_type": "stream",
     "text": [
      "Evaluating Task 4: 100%|██████████| 252/252 [00:01<00:00, 173.68it/s, acc_task_4=77.2] \n"
     ]
    },
    {
     "name": "stdout",
     "output_type": "stream",
     "text": [
      "Accuracy for task 4\t[Class-IL]: 19.34 \t[Task-IL]: 62.41\n"
     ]
    },
    {
     "data": {
      "application/vnd.jupyter.widget-view+json": {
       "model_id": "cf7ab5c0b02740e9827f8a675f016023",
       "version_major": 2,
       "version_minor": 0
      },
      "text/plain": [
       "  0%|          | 0/313 [00:00<?, ?it/s]"
      ]
     },
     "metadata": {},
     "output_type": "display_data"
    },
    {
     "name": "stdout",
     "output_type": "stream",
     "text": [
      "Task 5\n"
     ]
    },
    {
     "name": "stderr",
     "output_type": "stream",
     "text": [
      "Evaluating Task 5: 100%|██████████| 315/315 [00:01<00:00, 169.28it/s, acc_task_5=80.3]"
     ]
    },
    {
     "name": "stdout",
     "output_type": "stream",
     "text": [
      "Accuracy for task 5\t[Class-IL]: 16.06 \t[Task-IL]: 60.57\n"
     ]
    },
    {
     "name": "stderr",
     "output_type": "stream",
     "text": [
      "\n"
     ]
    }
   ],
   "source": [
    "\"\"\"\n",
    "Now we can use the `load_runner` function to load our model on the custom dataset.\n",
    "\"\"\"\n",
    "\n",
    "model, dataset = load_runner('sgd', 'seq-cifar10', \n",
    "                             {'lr': 0.1, 'n_epochs': 1, 'batch_size': 32, 'backbone': 'custom-cnn-v1'})\n",
    "train(model, dataset)"
   ]
  },
  {
   "cell_type": "code",
   "execution_count": 4,
   "id": "9a857877",
   "metadata": {},
   "outputs": [
    {
     "name": "stdout",
     "output_type": "stream",
     "text": [
      "Loading model:  sgd\n",
      "- Using CustomCNN as backbone\n"
     ]
    },
    {
     "data": {
      "application/vnd.jupyter.widget-view+json": {
       "model_id": "1e02e91bf82a4b9c84b08f39099d3efd",
       "version_major": 2,
       "version_minor": 0
      },
      "text/plain": [
       "  0%|          | 0/313 [00:00<?, ?it/s]"
      ]
     },
     "metadata": {},
     "output_type": "display_data"
    },
    {
     "name": "stdout",
     "output_type": "stream",
     "text": [
      "Task 1\n"
     ]
    },
    {
     "name": "stderr",
     "output_type": "stream",
     "text": [
      "Evaluating Task 1: 100%|██████████| 63/63 [00:00<00:00, 91.58it/s, acc_task_1=82]  \n"
     ]
    },
    {
     "name": "stdout",
     "output_type": "stream",
     "text": [
      "Accuracy for task 1\t[Class-IL]: 81.95 \t[Task-IL]: 81.95\n"
     ]
    },
    {
     "data": {
      "application/vnd.jupyter.widget-view+json": {
       "model_id": "027981b36d3e41a79e78e71ede4d8ede",
       "version_major": 2,
       "version_minor": 0
      },
      "text/plain": [
       "  0%|          | 0/313 [00:00<?, ?it/s]"
      ]
     },
     "metadata": {},
     "output_type": "display_data"
    },
    {
     "name": "stdout",
     "output_type": "stream",
     "text": [
      "Task 2\n"
     ]
    },
    {
     "name": "stderr",
     "output_type": "stream",
     "text": [
      "Evaluating Task 2: 100%|██████████| 126/126 [00:01<00:00, 90.14it/s, acc_task_2=64.3]\n"
     ]
    },
    {
     "name": "stdout",
     "output_type": "stream",
     "text": [
      "Accuracy for task 2\t[Class-IL]: 32.15 \t[Task-IL]: 58.07\n"
     ]
    },
    {
     "data": {
      "application/vnd.jupyter.widget-view+json": {
       "model_id": "04cdbba0261f412e87e835d73d2750b0",
       "version_major": 2,
       "version_minor": 0
      },
      "text/plain": [
       "  0%|          | 0/313 [00:00<?, ?it/s]"
      ]
     },
     "metadata": {},
     "output_type": "display_data"
    },
    {
     "name": "stdout",
     "output_type": "stream",
     "text": [
      "Task 3\n"
     ]
    },
    {
     "name": "stderr",
     "output_type": "stream",
     "text": [
      "Evaluating Task 3: 100%|██████████| 189/189 [00:02<00:00, 90.43it/s, acc_task_3=66.1] \n"
     ]
    },
    {
     "name": "stdout",
     "output_type": "stream",
     "text": [
      "Accuracy for task 3\t[Class-IL]: 22.05 \t[Task-IL]: 60.08\n"
     ]
    },
    {
     "data": {
      "application/vnd.jupyter.widget-view+json": {
       "model_id": "ff045c59019c46088e0e6546d6bd393b",
       "version_major": 2,
       "version_minor": 0
      },
      "text/plain": [
       "  0%|          | 0/313 [00:00<?, ?it/s]"
      ]
     },
     "metadata": {},
     "output_type": "display_data"
    },
    {
     "name": "stdout",
     "output_type": "stream",
     "text": [
      "Task 4\n"
     ]
    },
    {
     "name": "stderr",
     "output_type": "stream",
     "text": [
      "Evaluating Task 4: 100%|██████████| 252/252 [00:02<00:00, 89.71it/s, acc_task_4=62.9]\n"
     ]
    },
    {
     "name": "stdout",
     "output_type": "stream",
     "text": [
      "Accuracy for task 4\t[Class-IL]: 15.74 \t[Task-IL]: 51.40\n"
     ]
    },
    {
     "data": {
      "application/vnd.jupyter.widget-view+json": {
       "model_id": "64525ba0c5b14941aa13f61eff9326b8",
       "version_major": 2,
       "version_minor": 0
      },
      "text/plain": [
       "  0%|          | 0/313 [00:00<?, ?it/s]"
      ]
     },
     "metadata": {},
     "output_type": "display_data"
    },
    {
     "name": "stdout",
     "output_type": "stream",
     "text": [
      "Task 5\n"
     ]
    },
    {
     "name": "stderr",
     "output_type": "stream",
     "text": [
      "Evaluating Task 5: 100%|██████████| 315/315 [00:03<00:00, 89.71it/s, acc_task_5=69]   "
     ]
    },
    {
     "name": "stdout",
     "output_type": "stream",
     "text": [
      "Accuracy for task 5\t[Class-IL]: 13.90 \t[Task-IL]: 55.69\n"
     ]
    },
    {
     "name": "stderr",
     "output_type": "stream",
     "text": [
      "\n"
     ]
    }
   ],
   "source": [
    "model, dataset = load_runner('sgd', 'seq-cifar10', \n",
    "                             {'lr': 0.1, 'n_epochs': 1, 'batch_size': 32, 'backbone': 'custom-cnn-v2'})\n",
    "train(model, dataset)"
   ]
  }
 ],
 "metadata": {
  "kernelspec": {
   "display_name": ".venv",
   "language": "python",
   "name": "python3"
  },
  "language_info": {
   "codemirror_mode": {
    "name": "ipython",
    "version": 3
   },
   "file_extension": ".py",
   "mimetype": "text/x-python",
   "name": "python",
   "nbconvert_exporter": "python",
   "pygments_lexer": "ipython3",
   "version": "3.13.3"
  }
 },
 "nbformat": 4,
 "nbformat_minor": 5
}
