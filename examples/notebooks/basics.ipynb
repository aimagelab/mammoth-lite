{
 "cells": [
  {
   "cell_type": "code",
   "execution_count": 1,
   "id": "6ec72291",
   "metadata": {},
   "outputs": [],
   "source": [
    "\"\"\"\n",
    "This script contains a simple example of how to use the Mammoth library.\n",
    "\n",
    "We will see:\n",
    "- How to load the necessary stuff to run a model on a particular dataset.\n",
    "- What arguments are available for the model and what are the required ones.\n",
    "- How to run a model.\n",
    "- How to save and load a model.\n",
    "\"\"\"\n",
    "\n",
    "from mammoth_lite import train, load_runner, get_avail_args"
   ]
  },
  {
   "cell_type": "code",
   "execution_count": 2,
   "id": "706a8624",
   "metadata": {},
   "outputs": [
    {
     "name": "stdout",
     "output_type": "stream",
     "text": [
      "Required arguments:\n",
      "  dataset: Which dataset to perform experiments on.\n",
      "  model: Model name.\n",
      "  lr: Learning rate. This should either be set as default by the model (with `set_defaults <https://docs.python.org/3/library/argparse.html#argparse.ArgumentParser.set_defaults>`_), by the dataset (with `set_default_from_args`, see :ref:`module-datasets.utils`), or with `--lr=<value>`.\n",
      "\n",
      "Optional arguments:\n",
      "  backbone: None - Backbone network name.\n",
      "  num_workers: None - Number of workers for the dataloaders (default=infer from number of cpus).\n",
      "  savecheck: None - Save checkpoint every `task` or at the end of the training (`last`).\n",
      "  loadcheck: None - Path of the checkpoint to load (.pt file for the specific task)\n",
      "  wandb_name: None - Wandb name for this run. Overrides the default name (`args.model`).\n",
      "  wandb_entity: None - Wandb entity\n",
      "  wandb_project: None - Wandb project name\n",
      "  batch_size: None - Batch size.\n",
      "  joint: 0 - Train model on Joint (single task)?\n",
      "  n_epochs: None - Number of epochs. Used only if `fitting_mode=epochs`.\n",
      "  optimizer: sgd - Optimizer.\n",
      "  optim_wd: 0.0 - optimizer weight decay.\n",
      "  optim_mom: 0.0 - optimizer momentum.\n",
      "  optim_nesterov: 0 - optimizer nesterov momentum.\n"
     ]
    }
   ],
   "source": [
    "\"\"\"\n",
    "The `get_avail_args` function returns a dictionary of available arguments for the model.\n",
    "The arguments are divided into required and optional ones.\n",
    "\n",
    "- The required arguments are those that MUST be provided to run the model.\n",
    "- The optional arguments are those that can be provided to customize the model's behavior (such as changing the batch_size or saving/loading a checkpoint).\n",
    "\"\"\"\n",
    "\n",
    "required_args, optional_args = get_avail_args()\n",
    "\n",
    "print(\"Required arguments:\")\n",
    "for arg, info in required_args.items():\n",
    "    print(f\"  {arg}: {info['description']}\")\n",
    "\n",
    "print(\"\\nOptional arguments:\")\n",
    "for arg, info in optional_args.items():\n",
    "    print(f\"  {arg}: {info['default']} - {info['description']}\")"
   ]
  },
  {
   "cell_type": "code",
   "execution_count": null,
   "id": "d73d1d64",
   "metadata": {},
   "outputs": [
    {
     "name": "stdout",
     "output_type": "stream",
     "text": [
      "Loading model:  sgd\n",
      "- Using ResNet as backbone\n",
      "Using device cuda\n"
     ]
    }
   ],
   "source": [
    "\"\"\"\n",
    "To load the necessary stuff to run a model on a particular dataset, we can use the `load_runner` function.\n",
    "This function takes the model name, dataset name, and a dictionary of arguments as input.\n",
    "The dictionary of arguments can contain both required and optional arguments.\n",
    "\n",
    "The `load_runner` function returns the model and dataset to be used for training.\n",
    "The model and dataset are already set up with the provided arguments.\n",
    "\"\"\"\n",
    "\n",
    "model, dataset = load_runner('sgd','seq-cifar10',{'lr': 0.1, 'n_epochs': 1, 'batch_size': 32})"
   ]
  },
  {
   "cell_type": "code",
   "execution_count": 4,
   "id": "fa108461",
   "metadata": {},
   "outputs": [
    {
     "data": {
      "application/vnd.jupyter.widget-view+json": {
       "model_id": "786b42d9bd09434bb8e7c032a2f67c4f",
       "version_major": 2,
       "version_minor": 0
      },
      "text/plain": [
       "  0%|          | 0/313 [00:00<?, ?it/s]"
      ]
     },
     "metadata": {},
     "output_type": "display_data"
    },
    {
     "name": "stdout",
     "output_type": "stream",
     "text": [
      "Task 1\n"
     ]
    },
    {
     "name": "stderr",
     "output_type": "stream",
     "text": [
      "Evaluating Task 1: 100%|██████████| 63/63 [00:00<00:00, 84.07it/s, acc_task_1=86.7]\n"
     ]
    },
    {
     "name": "stdout",
     "output_type": "stream",
     "text": [
      "Accuracy for task 1\t[Class-IL]: 86.65 \t[Task-IL]: 86.65\n"
     ]
    },
    {
     "data": {
      "application/vnd.jupyter.widget-view+json": {
       "model_id": "8e9f8296203348829be64a4a3bb52ccc",
       "version_major": 2,
       "version_minor": 0
      },
      "text/plain": [
       "  0%|          | 0/313 [00:00<?, ?it/s]"
      ]
     },
     "metadata": {},
     "output_type": "display_data"
    },
    {
     "name": "stdout",
     "output_type": "stream",
     "text": [
      "Task 2\n"
     ]
    },
    {
     "name": "stderr",
     "output_type": "stream",
     "text": [
      "Evaluating Task 2: 100%|██████████| 126/126 [00:01<00:00, 84.73it/s, acc_task_2=71.2] \n"
     ]
    },
    {
     "name": "stdout",
     "output_type": "stream",
     "text": [
      "Accuracy for task 2\t[Class-IL]: 35.62 \t[Task-IL]: 69.25\n"
     ]
    },
    {
     "data": {
      "application/vnd.jupyter.widget-view+json": {
       "model_id": "8871ec63f03b465bb29c13e6e6be22aa",
       "version_major": 2,
       "version_minor": 0
      },
      "text/plain": [
       "  0%|          | 0/313 [00:00<?, ?it/s]"
      ]
     },
     "metadata": {},
     "output_type": "display_data"
    },
    {
     "name": "stdout",
     "output_type": "stream",
     "text": [
      "Task 3\n"
     ]
    },
    {
     "name": "stderr",
     "output_type": "stream",
     "text": [
      "Evaluating Task 3: 100%|██████████| 189/189 [00:02<00:00, 84.57it/s, acc_task_3=76.8] \n"
     ]
    },
    {
     "name": "stdout",
     "output_type": "stream",
     "text": [
      "Accuracy for task 3\t[Class-IL]: 25.58 \t[Task-IL]: 61.00\n"
     ]
    },
    {
     "data": {
      "application/vnd.jupyter.widget-view+json": {
       "model_id": "3f5c10888854416da841b32dfe069665",
       "version_major": 2,
       "version_minor": 0
      },
      "text/plain": [
       "  0%|          | 0/313 [00:00<?, ?it/s]"
      ]
     },
     "metadata": {},
     "output_type": "display_data"
    },
    {
     "name": "stdout",
     "output_type": "stream",
     "text": [
      "Task 4\n"
     ]
    },
    {
     "name": "stderr",
     "output_type": "stream",
     "text": [
      "Evaluating Task 4: 100%|██████████| 252/252 [00:02<00:00, 85.76it/s, acc_task_4=86.2] \n"
     ]
    },
    {
     "name": "stdout",
     "output_type": "stream",
     "text": [
      "Accuracy for task 4\t[Class-IL]: 21.56 \t[Task-IL]: 67.28\n"
     ]
    },
    {
     "data": {
      "application/vnd.jupyter.widget-view+json": {
       "model_id": "82704173003c4c6f800ad1923e61aee7",
       "version_major": 2,
       "version_minor": 0
      },
      "text/plain": [
       "  0%|          | 0/313 [00:00<?, ?it/s]"
      ]
     },
     "metadata": {},
     "output_type": "display_data"
    },
    {
     "name": "stdout",
     "output_type": "stream",
     "text": [
      "Task 5\n"
     ]
    },
    {
     "name": "stderr",
     "output_type": "stream",
     "text": [
      "Evaluating Task 5: 100%|██████████| 315/315 [00:03<00:00, 81.75it/s, acc_task_5=81.2] "
     ]
    },
    {
     "name": "stdout",
     "output_type": "stream",
     "text": [
      "Accuracy for task 5\t[Class-IL]: 16.25 \t[Task-IL]: 60.68\n"
     ]
    },
    {
     "name": "stderr",
     "output_type": "stream",
     "text": [
      "\n"
     ]
    }
   ],
   "source": [
    "\"\"\"\n",
    "We can now run the model on the dataset using the `train` function.\n",
    "\"\"\"\n",
    "\n",
    "train(model, dataset)"
   ]
  }
 ],
 "metadata": {
  "kernelspec": {
   "display_name": ".venv",
   "language": "python",
   "name": "python3"
  },
  "language_info": {
   "codemirror_mode": {
    "name": "ipython",
    "version": 3
   },
   "file_extension": ".py",
   "mimetype": "text/x-python",
   "name": "python",
   "nbconvert_exporter": "python",
   "pygments_lexer": "ipython3",
   "version": "3.13.3"
  }
 },
 "nbformat": 4,
 "nbformat_minor": 5
}
