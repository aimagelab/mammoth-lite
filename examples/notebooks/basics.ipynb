{
 "cells": [
  {
   "cell_type": "code",
   "execution_count": 1,
   "id": "6ec72291",
   "metadata": {},
   "outputs": [],
   "source": [
    "from mammoth.models import get_model, get_all_models"
   ]
  },
  {
   "cell_type": "code",
   "execution_count": 2,
   "id": "4505a2a1",
   "metadata": {},
   "outputs": [
    {
     "data": {
      "text/plain": [
       "{'sgd': 'sgd'}"
      ]
     },
     "execution_count": 2,
     "metadata": {},
     "output_type": "execute_result"
    }
   ],
   "source": [
    "get_all_models()"
   ]
  },
  {
   "cell_type": "code",
   "execution_count": 3,
   "id": "9132e73e",
   "metadata": {},
   "outputs": [
    {
     "data": {
      "text/plain": [
       "['/home/lbonicelli/Projects/mammoth_lite/mammoth',\n",
       " '/home/lbonicelli/.local/share/uv/python/cpython-3.13.3-linux-x86_64-gnu/lib/python313.zip',\n",
       " '/home/lbonicelli/.local/share/uv/python/cpython-3.13.3-linux-x86_64-gnu/lib/python3.13',\n",
       " '/home/lbonicelli/.local/share/uv/python/cpython-3.13.3-linux-x86_64-gnu/lib/python3.13/lib-dynload',\n",
       " '',\n",
       " '/home/lbonicelli/Projects/mammoth_lite/.venv/lib/python3.13/site-packages',\n",
       " '__editable__.mammoth_lite-0.1.0.finder.__path_hook__']"
      ]
     },
     "execution_count": 3,
     "metadata": {},
     "output_type": "execute_result"
    }
   ],
   "source": [
    "import sys\n",
    "\n",
    "sys.path"
   ]
  },
  {
   "cell_type": "code",
   "execution_count": null,
   "id": "d73d1d64",
   "metadata": {},
   "outputs": [],
   "source": []
  }
 ],
 "metadata": {
  "kernelspec": {
   "display_name": ".venv",
   "language": "python",
   "name": "python3"
  },
  "language_info": {
   "codemirror_mode": {
    "name": "ipython",
    "version": 3
   },
   "file_extension": ".py",
   "mimetype": "text/x-python",
   "name": "python",
   "nbconvert_exporter": "python",
   "pygments_lexer": "ipython3",
   "version": "3.13.3"
  }
 },
 "nbformat": 4,
 "nbformat_minor": 5
}
