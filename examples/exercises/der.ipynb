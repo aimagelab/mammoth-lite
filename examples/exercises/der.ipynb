{
 "cells": [
  {
   "cell_type": "code",
   "execution_count": null,
   "id": "68f3f59f",
   "metadata": {},
   "outputs": [],
   "source": [
    "\"\"\"\n",
    "In this script we will implement Dark Experience Replay ++ (DER++) from https://arxiv.org/pdf/2004.07211 .\n",
    "\n",
    "DER++ is a simple reherasal method that uses a replay buffer to store past experiences.\n",
    "In addition to the Cross-Entropy loss of Experience Replay, it also uses a reconstruction loss\n",
    "to reconstruct the input data from the replay buffer.\n",
    "\"\"\"\n",
    "\n",
    "from argparse import ArgumentParser\n",
    "from mammoth_lite import register_model, ContinualModel, load_runner, train, Buffer, add_rehearsal_args"
   ]
  },
  {
   "cell_type": "code",
   "execution_count": null,
   "id": "b5f98257",
   "metadata": {},
   "outputs": [],
   "source": [
    "from torch.nn import functional as F\n",
    "\n",
    "@register_model('der')  # Register this model with the name 'experience-replay'\n",
    "class DarkExperienceReplay(ContinualModel):\n",
    "    COMPATIBILITY = ['class-il', 'task-il']\n",
    "\n",
    "    @staticmethod\n",
    "    def get_parser(parser: ArgumentParser):\n",
    "        add_rehearsal_args(parser)\n",
    "\n",
    "        # TODO: add the alpha and beta arguments for the MSE and CE losses\n",
    "        \n",
    "        return parser\n",
    "\n",
    "    def __init__(self, *args, **kwargs):\n",
    "        super().__init__(*args, **kwargs)\n",
    "\n",
    "        # initialize the replay buffer with the size defined in the command line arguments\n",
    "        self.buffer = Buffer(buffer_size=self.args.buffer_size) \n",
    "\n",
    "    def observe(self, inputs, labels, not_aug_inputs, epoch=None):\n",
    "        \"\"\"\n",
    "        This essentially implements Eq 6 of https://arxiv.org/pdf/2004.07211\n",
    "        \"\"\"\n",
    "        self.opt.zero_grad()\n",
    "\n",
    "        outputs = self.net(inputs)\n",
    "        loss = self.loss(outputs, labels)\n",
    "\n",
    "        if len(self.buffer) > 0:\n",
    "            buffer_inputs, buffer_labels, _ = ... # TODO: sample from the buffer\n",
    "            \n",
    "            ce_buffer_loss = ... # TODO: compute the cross-entropy loss\n",
    "            loss += ... # TODO: update the loss with the cross-entropy buffer loss\n",
    "\n",
    "            buffer_inputs, _, buffer_logits = ... # sample another batch from the buffer\n",
    "            \n",
    "            mse_buffer_loss = ... # TODO: compute the MSE loss between the model outputs and buffer logits\n",
    "            loss += ... # TODO: update the loss with the MSE buffer loss\n",
    "\n",
    "        loss.backward()\n",
    "        self.opt.step()\n",
    "        \n",
    "        # TODO: update the buffer with the current inputs, labels, and LOGITS!\n",
    "\n",
    "        return loss.item()"
   ]
  },
  {
   "cell_type": "code",
   "execution_count": null,
   "id": "88da2fbf",
   "metadata": {},
   "outputs": [],
   "source": [
    "args = {\n",
    "    'lr': 0.1, \n",
    "    'n_epochs': 1,\n",
    "    'batch_size': 32,\n",
    "    'buffer_size': 500, \n",
    "    'minibatch_size': 32, \n",
    "    'alpha': 0.3,\n",
    "    'beta': 0.5,\n",
    "    }\n",
    "\n",
    "model, dataset = load_runner('der','seq-cifar10',args)\n",
    "train(model, dataset)"
   ]
  },
  {
   "cell_type": "code",
   "execution_count": null,
   "id": "48a4899b",
   "metadata": {},
   "outputs": [],
   "source": []
  }
 ],
 "metadata": {
  "kernelspec": {
   "display_name": ".venv",
   "language": "python",
   "name": "python3"
  },
  "language_info": {
   "codemirror_mode": {
    "name": "ipython",
    "version": 3
   },
   "file_extension": ".py",
   "mimetype": "text/x-python",
   "name": "python",
   "nbconvert_exporter": "python",
   "pygments_lexer": "ipython3",
   "version": "3.13.3"
  }
 },
 "nbformat": 4,
 "nbformat_minor": 5
}
